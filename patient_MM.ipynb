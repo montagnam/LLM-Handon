{
 "cells": [
  {
   "cell_type": "markdown",
   "metadata": {},
   "source": [
    "# Setup"
   ]
  },
  {
   "cell_type": "markdown",
   "metadata": {},
   "source": [
    "Put the API key in a .env that you don't push to git repo (you put it into .gitignore file)"
   ]
  },
  {
   "cell_type": "code",
   "execution_count": 23,
   "metadata": {},
   "outputs": [],
   "source": [
    "from openai import OpenAI\n",
    "client = OpenAI()\n",
    "\n",
    "import dotenv\n",
    "import os\n",
    "\n",
    "dotenv.load_dotenv()\n",
    "\n",
    "OPENAI_API_KEY = os.getenv(\"OPENAI_API_KEY\")\n",
    "from rich.pretty import pprint"
   ]
  },
  {
   "cell_type": "markdown",
   "metadata": {},
   "source": [
    "activate conversation memory"
   ]
  },
  {
   "cell_type": "code",
   "execution_count": 24,
   "metadata": {},
   "outputs": [],
   "source": [
    "system_state = {\n",
    "    \"conversation_history\": []\n",
    "}"
   ]
  },
  {
   "cell_type": "code",
   "execution_count": 25,
   "metadata": {},
   "outputs": [],
   "source": [
    "with open(\"master_prompt.txt\", \"r\", encoding=\"utf-8\") as file:\n",
    "    system_prompt = file.read().strip()\n",
    "\n",
    "system_state[\"conversation_history\"].append({\n",
    "    \"role\": \"system\",\n",
    "    \"content\": system_prompt\n",
    "})\n",
    "\n",
    "user_query = \"Hi, I am doctor Montagna, how can I help you?\"\n",
    "\n",
    "system_state[\"conversation_history\"].append({\n",
    "    \"role\": \"user\",\n",
    "    \"content\": user_query\n",
    "})"
   ]
  },
  {
   "cell_type": "code",
   "execution_count": null,
   "metadata": {},
   "outputs": [],
   "source": [
    "for message in system_state[\"conversation_history\"]:\n",
    "    print(f\"{message['role']}: {message['content']}\\n\")"
   ]
  },
  {
   "cell_type": "markdown",
   "metadata": {},
   "source": [
    "now start with the conversation"
   ]
  },
  {
   "cell_type": "code",
   "execution_count": null,
   "metadata": {},
   "outputs": [],
   "source": [
    "response = client.chat.completions.create(\n",
    "  model=\"gpt-4o-mini\",\n",
    "  messages=system_state[\"conversation_history\"],\n",
    "  max_tokens=512,\n",
    "  temperature=1\n",
    ")\n",
    "\n",
    "system_state[\"conversation_history\"].append({\n",
    "    \"role\": \"assistant\",\n",
    "    \"content\": response.choices[0].message.content\n",
    "})\n",
    "\n",
    "for message in system_state[\"conversation_history\"]:\n",
    "    print(f\"{message['role'].upper()}: {message['content']}\\n\")"
   ]
  },
  {
   "cell_type": "code",
   "execution_count": null,
   "metadata": {},
   "outputs": [],
   "source": [
    "while True:\n",
    "    user_input = input(\"You: what is your medical history?\")\n",
    "    \n",
    "    #if user_input.lower() in ['exit', 'quit', 'bye']:\n",
    "        #print(\"Assistant: Goodbye!\")\n",
    "        #break\n",
    "    \n",
    "    system_state[\"conversation_history\"].append({\n",
    "        \"role\": \"user\",\n",
    "        \"content\": user_input\n",
    "    })\n",
    "    \n",
    "    response = client.chat.completions.create(\n",
    "        model=\"gpt-4o-mini\",\n",
    "        messages=system_state[\"conversation_history\"],\n",
    "        max_tokens=512,\n",
    "        temperature=1.0\n",
    "    )\n",
    "    \n",
    "    assistant_response = response.choices[0].message.content\n",
    "    print(f\"Patient: {assistant_response}\\n\")\n",
    "    \n",
    "    system_state[\"conversation_history\"].append({\n",
    "        \"role\": \"assistant\",\n",
    "        \"content\": assistant_response\n",
    "    })"
   ]
  },
  {
   "cell_type": "code",
   "execution_count": 29,
   "metadata": {},
   "outputs": [],
   "source": [
    "from rich.console import Console\n",
    "from rich.text import Text\n",
    "\n",
    "console = Console()"
   ]
  },
  {
   "cell_type": "code",
   "execution_count": null,
   "metadata": {},
   "outputs": [],
   "source": [
    "colors = {\n",
    "    \"system\": \"green\",\n",
    "    \"user\": \"cyan\",\n",
    "    \"assistant\": \"magenta\"\n",
    "}\n",
    "\n",
    "for message in system_state[\"conversation_history\"]:\n",
    "    role = message[\"role\"]\n",
    "    content = message[\"content\"]\n",
    "    color = colors[role]\n",
    "    console.print(f\"[{color}]{role.upper()}: {content}[/{color}]\")"
   ]
  },
  {
   "cell_type": "markdown",
   "metadata": {},
   "source": [
    "master_prompt = open('master_prompt.txt', 'r')\n",
    "master_prompt.read()\n"
   ]
  }
 ],
 "metadata": {
  "kernelspec": {
   "display_name": "Python 3",
   "language": "python",
   "name": "python3"
  },
  "language_info": {
   "codemirror_mode": {
    "name": "ipython",
    "version": 3
   },
   "file_extension": ".py",
   "mimetype": "text/x-python",
   "name": "python",
   "nbconvert_exporter": "python",
   "pygments_lexer": "ipython3",
   "version": "3.12.1"
  }
 },
 "nbformat": 4,
 "nbformat_minor": 2
}
